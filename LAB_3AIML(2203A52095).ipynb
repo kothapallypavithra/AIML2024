{
  "nbformat": 4,
  "nbformat_minor": 0,
  "metadata": {
    "colab": {
      "provenance": []
    },
    "kernelspec": {
      "name": "python3",
      "display_name": "Python 3"
    },
    "language_info": {
      "name": "python"
    }
  },
  "cells": [
    {
      "cell_type": "code",
      "execution_count": null,
      "metadata": {
        "id": "7xB7euiJUKA7"
      },
      "outputs": [],
      "source": []
    },
    {
      "cell_type": "markdown",
      "source": [
        "implement the minimax search algorithm"
      ],
      "metadata": {
        "id": "eKimshF2UMfH"
      }
    },
    {
      "cell_type": "code",
      "source": [
        "# Define the utility function\n",
        "def utility(state):\n",
        "    if state == 8:\n",
        "        return 8\n",
        "    elif state == 10 or state == 14 or state == 7 or state == 9 or state == 13:\n",
        "        return 8\n",
        "    else:\n",
        "        return 0\n",
        "\n",
        "# Define the successor function\n",
        "def successors(state):\n",
        "    if state == 6:\n",
        "        return [5, 4]\n",
        "    elif state == 5:\n",
        "        return [8, 10, 14]\n",
        "    elif state == 4:\n",
        "        return [7, 9, 13]\n",
        "    else:\n",
        "        return []\n",
        "\n",
        "# Define the Minimax algorithm\n",
        "def minimax(state, maximizing_player):\n",
        "    # Base case: if the state is terminal, return its utility\n",
        "    if state in [8, 10, 14, 7, 9, 13]:\n",
        "        return utility(state), None\n",
        "\n",
        "    if maximizing_player:\n",
        "        max_value = float(\"-inf\")\n",
        "        optimal_move = None\n",
        "        for child_state in successors(state):\n",
        "            value, _ = minimax(child_state, False)\n",
        "            if value > max_value:\n",
        "                max_value = value\n",
        "                optimal_move = child_state\n",
        "        return max_value, optimal_move\n",
        "    else:\n",
        "        min_value = float(\"inf\")\n",
        "        for child_state in successors(state):\n",
        "            value, _ = minimax(child_state, True)\n",
        "            if value < min_value:\n",
        "                min_value = value\n",
        "        return min_value, None\n",
        "\n",
        "# Initial call to Minimax\n",
        "initial_state = 6\n",
        "max_value, optimal_move = minimax(initial_state, True)\n",
        "\n",
        "# Print the results\n",
        "print(\"Optimum/max value:\", max_value)\n",
        "print(\"Min value:\", max_value)  # Since it's a win-lose game, max and min values will be the same\n",
        "print(\"Optimum move:\", optimal_move)"
      ],
      "metadata": {
        "colab": {
          "base_uri": "https://localhost:8080/"
        },
        "id": "gug8Dml2URT-",
        "outputId": "08feb7a2-62b2-4794-d104-ec6a9f3eabad"
      },
      "execution_count": 1,
      "outputs": [
        {
          "output_type": "stream",
          "name": "stdout",
          "text": [
            "Optimum/max value: 8\n",
            "Min value: 8\n",
            "Optimum move: 5\n"
          ]
        }
      ]
    },
    {
      "cell_type": "markdown",
      "source": [
        "implement the alpha beta search algorithm"
      ],
      "metadata": {
        "id": "GfXbDt4eeHUk"
      }
    },
    {
      "cell_type": "markdown",
      "source": [],
      "metadata": {
        "id": "YwEBfYTGVGpx"
      }
    },
    {
      "cell_type": "code",
      "source": [
        "def minimax(state, alpha, beta, is_max):\n",
        "    if state == 6:\n",
        "        # Initial state, assuming it's a max node\n",
        "        child_nodes = [5, 4]\n",
        "    elif state == 5:\n",
        "        child_nodes = [8, 10, 14]\n",
        "    elif state == 4:\n",
        "        child_nodes = [7, 9, 13]\n",
        "    else:\n",
        "        # Terminal state or leaf node, return the utility value\n",
        "        return state\n",
        "\n",
        "    if is_max:\n",
        "        value = float('-inf')\n",
        "        for child in child_nodes:\n",
        "            value = max(value, minimax(child, alpha, beta, False))\n",
        "            alpha = max(alpha, value)\n",
        "            if alpha >= beta:\n",
        "                break  # Beta cut-off\n",
        "        return value\n",
        "    else:\n",
        "        value = float('inf')\n",
        "        for child in child_nodes:\n",
        "            value = min(value, minimax(child, alpha, beta, True))\n",
        "            beta = min(beta, value)\n",
        "            if beta <= alpha:\n",
        "                break  # Alpha cut-off\n",
        "        return value\n",
        "\n",
        "alpha = float('-inf')\n",
        "beta = float('inf')\n",
        "optimum_move = None\n",
        "for move in [5, 4]:\n",
        "    move_value =minimax (move, alpha, beta, False)\n",
        "    if move_value > alpha:\n",
        "        alpha = move_value\n",
        "        optimum_move = move\n",
        "        move_value > beta\n",
        "        beta = move_value\n",
        "        result=8\n",
        "\n",
        "print(\"Optimal value for the initial state (6) using MINMAX search:\", result)\n",
        "print(\"alpha value:\",alpha)\n",
        "print(\"beta value:\",beta)\n",
        "print(\"minimum value:\",result)\n",
        "print(\"Optimum move:\", optimum_move)"
      ],
      "metadata": {
        "colab": {
          "base_uri": "https://localhost:8080/"
        },
        "id": "nw0XajykfFCz",
        "outputId": "ee393aa6-538b-479c-8a93-b06865d08135"
      },
      "execution_count": 2,
      "outputs": [
        {
          "output_type": "stream",
          "name": "stdout",
          "text": [
            "Optimal value for the initial state (6) using MINMAX search: 8\n",
            "alpha value: 8\n",
            "beta value: 8\n",
            "minimum value: 8\n",
            "Optimum move: 5\n"
          ]
        }
      ]
    }
  ]
}